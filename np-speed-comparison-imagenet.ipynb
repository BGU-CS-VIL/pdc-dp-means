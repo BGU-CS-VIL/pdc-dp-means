{
 "cells": [
  {
   "cell_type": "code",
   "execution_count": null,
   "id": "20a243a3-7e66-4505-842b-be7878e7c5c5",
   "metadata": {},
   "outputs": [],
   "source": [
    "from sklearn.cluster import MiniBatchDPMeans, DPMeans,KMeans, MiniBatchKMeans, DBSCAN, MeanShift, AgglomerativeClustering, OPTICS\n",
    "from evaluations import *\n",
    "# from dpmmpython.dpmmwrapper import DPMMPython\n",
    "from matplotlib import pyplot as plt\n",
    "import numpy as np\n",
    "import pandas as pd\n",
    "import black_box as bb\n",
    "from sklearn.metrics import normalized_mutual_info_score as nmi\n",
    "from time import time\n",
    "from tqdm import tqdm\n",
    "from torchvision.datasets import MNIST\n",
    "from sklearn.decomposition import PCA"
   ]
  },
  {
   "cell_type": "code",
   "execution_count": null,
   "id": "6ef8e50e-ba0b-445f-b021-54cfddf421fc",
   "metadata": {},
   "outputs": [],
   "source": [
    "EXP_NAME = \"ImageNet100\"\n",
    "data = np.array(pd.read_csv('./data/imagenet_short.csv',header=None))\n",
    "embeddings = data[:,:64].astype(np.float32)\n",
    "gt = data[:,64].astype(int)\n",
    "D = embeddings.shape[1]\n",
    "N = embeddings.shape[0]\n",
    "K_count=100\n",
    "perm = np.random.permutation(len(gt))\n",
    "data = embeddings[perm]\n",
    "gt = gt[perm]\n",
    "(X_train,y_train),(X_val,y_val),(X_test,y_test) = train_val_test_split(data,gt,0.001,0.1)"
   ]
  },
  {
   "cell_type": "code",
   "execution_count": null,
   "id": "36503970-ecbe-4563-98ae-e304392fc4ca",
   "metadata": {},
   "outputs": [],
   "source": [
    "np.save('opt_res/x_train_im.npy',X_train)\n",
    "np.save('opt_res/y_train_im.npy',y_train)\n",
    "np.save('opt_res/x_test_im.npy',X_test)\n",
    "np.save('opt_res/y_test_im.npy',y_test)"
   ]
  },
  {
   "cell_type": "code",
   "execution_count": null,
   "id": "e53235d1-a79b-4226-acc9-ed6918a3d143",
   "metadata": {},
   "outputs": [],
   "source": [
    "X_train = np.load('opt_res/x_train_im.npy')\n",
    "y_train = np.load('opt_res/y_train_im.npy')\n",
    "X_test = np.load('opt_res/x_test_im.npy')\n",
    "y_test = np.load('opt_res/y_test_im.npy')"
   ]
  },
  {
   "cell_type": "markdown",
   "id": "b4f34622-76e9-42ee-bdda-04548b922a77",
   "metadata": {},
   "source": [
    "### DBSCAN"
   ]
  },
  {
   "cell_type": "code",
   "execution_count": null,
   "id": "120f7433-0196-440e-86bd-c51491b3e80b",
   "metadata": {},
   "outputs": [],
   "source": [
    "def search_dbscan(pars):    \n",
    "    labels = DBSCAN(eps=pars[0], min_samples=int(np.round(pars[1]))).fit_predict(X_test)\n",
    "    return -nmi(labels,y_test)\n",
    "                                                 "
   ]
  },
  {
   "cell_type": "code",
   "execution_count": null,
   "id": "273bf7c4-d021-408e-ae76-d272794d2791",
   "metadata": {
    "collapsed": true,
    "jupyter": {
     "outputs_hidden": true
    },
    "tags": []
   },
   "outputs": [],
   "source": [
    "best_params = bb.search_min(f = search_dbscan,  # given function\n",
    "                            domain = [  # ranges of each parameter\n",
    "                                [0.001, 100.],\n",
    "                                [1., 10.]\n",
    "                                ],\n",
    "                            budget = 400,  # total number of function calls available\n",
    "                            batch = 16,\n",
    "                            resfile = 'opt_res/dbscan_im.csv')"
   ]
  },
  {
   "cell_type": "code",
   "execution_count": null,
   "id": "4f237ba3-4c82-45f4-a398-038da10399dc",
   "metadata": {},
   "outputs": [],
   "source": [
    "params = np.array([2.67954056, 1.38473185])\n",
    "# timings =[]\n",
    "# nmis = []\n",
    "# ks =[]\n",
    "for i in tqdm(range(2)):\n",
    "    tic = time()\n",
    "    labels = DBSCAN(eps=params[0], min_samples=int(np.round(params[1]))).fit_predict(X_train)\n",
    "    toc = time()-tic\n",
    "    timings.append(toc)\n",
    "    nmis.append(nmi(labels,y_train))\n",
    "    ks.append(len(np.unique(labels)))\n",
    "    print(timings[-1],nmis[-1],ks[-1])"
   ]
  },
  {
   "cell_type": "code",
   "execution_count": null,
   "id": "ec75868d-7124-4e3c-ab7f-ec49275f581c",
   "metadata": {},
   "outputs": [],
   "source": [
    "print(np.mean(timings))\n",
    "print(np.std(timings))\n",
    "print(np.mean(nmis))\n",
    "print(np.std(nmis))\n",
    "print(np.mean(ks))\n",
    "print(np.std(ks))"
   ]
  },
  {
   "cell_type": "code",
   "execution_count": null,
   "id": "ab777da9-8e98-49d1-a0ab-ded01a2d29ec",
   "metadata": {},
   "outputs": [],
   "source": [
    "def search_meanshit(pars):    \n",
    "    labels = MeanShift(bandwidth=pars[0]).fit_predict(X_test)\n",
    "    return -nmi(labels,y_test)"
   ]
  },
  {
   "cell_type": "code",
   "execution_count": null,
   "id": "89aff16b-af57-40f1-8d3b-8975f66a9edf",
   "metadata": {},
   "outputs": [],
   "source": [
    "best_params = bb.search_min(f = search_meanshit,  # given function\n",
    "                            domain = [  # ranges of each parameter\n",
    "                                [0.1, 10.],\n",
    "                                ],\n",
    "                            budget = 20,  # total number of function calls available\n",
    "                            batch = 10,\n",
    "                            resfile = 'opt_res/meanshift.csv')"
   ]
  },
  {
   "cell_type": "code",
   "execution_count": null,
   "id": "25201236-e755-4875-a8a4-94e4b960deb3",
   "metadata": {},
   "outputs": [],
   "source": [
    "best_params = np.array([1.2685]) #Evaluated seperetly due to bb optimize multi process bug with notebooks."
   ]
  },
  {
   "cell_type": "code",
   "execution_count": null,
   "id": "5f66238b-1006-4dd8-81de-c3e2de6bed41",
   "metadata": {},
   "outputs": [],
   "source": [
    "params = best_params"
   ]
  },
  {
   "cell_type": "code",
   "execution_count": null,
   "id": "874cdf00-967d-4c47-bdba-46810a79e43b",
   "metadata": {},
   "outputs": [],
   "source": [
    "timings =[]\n",
    "nmis = []\n",
    "ks =[]\n",
    "for i in tqdm(range(3)):\n",
    "    tic = time()\n",
    "    labels = MeanShift(bandwidth=params[0]).fit_predict(X_train)\n",
    "    toc = time()-tic\n",
    "    timings.append(toc)\n",
    "    nmis.append(nmi(labels,y_train))\n",
    "    ks.append(len(np.unique(labels)))\n",
    "    print(timings[-1],nmis[-1],ks[-1])"
   ]
  },
  {
   "cell_type": "code",
   "execution_count": null,
   "id": "743052cf-7926-4b88-915c-e045a0d159e2",
   "metadata": {},
   "outputs": [],
   "source": [
    "print(np.mean(timings))\n",
    "print(np.std(timings))\n",
    "print(np.mean(nmis))\n",
    "print(np.std(nmis))\n",
    "print(np.mean(ks))\n",
    "print(np.std(ks))"
   ]
  },
  {
   "cell_type": "markdown",
   "id": "ddd6816f-15c4-437c-988a-aa1990bae316",
   "metadata": {},
   "source": [
    "### P-DP-Means"
   ]
  },
  {
   "cell_type": "code",
   "execution_count": null,
   "id": "f14eee6d-ac62-40c8-953c-965ce5469acc",
   "metadata": {},
   "outputs": [],
   "source": [
    "def search_dpmeans(pars):    \n",
    "    labels = DPMeans(delta=pars[0]).fit_predict(X_test)\n",
    "    return -nmi(labels,y_test)"
   ]
  },
  {
   "cell_type": "code",
   "execution_count": null,
   "id": "4b6d1db0-7712-4164-998c-cb1f5f2f9196",
   "metadata": {},
   "outputs": [],
   "source": [
    "best_params = bb.search_min(f = search_dpmeans,  # given function\n",
    "                            domain = [  # ranges of each parameter\n",
    "                                [1, 100.],\n",
    "                                ],\n",
    "                            budget = 100,  # total number of function calls available\n",
    "                            batch = 16,\n",
    "                            resfile = 'opt_res/pdpmeans_im.csv')"
   ]
  },
  {
   "cell_type": "code",
   "execution_count": null,
   "id": "20767091-e273-4dfc-bd8c-2ced423b859a",
   "metadata": {},
   "outputs": [],
   "source": [
    "best_params = np.array([85.69745234])\n",
    "timings =[]\n",
    "nmis = []\n",
    "ks =[]\n",
    "for i in tqdm(range(3)):\n",
    "    tic = time()\n",
    "    labels = DPMeans(delta=best_params[0],n_init=1).fit_predict(X_train)\n",
    "    toc = time()-tic\n",
    "    timings.append(toc)\n",
    "    nmis.append(nmi(labels,y_train))\n",
    "    ks.append(len(np.unique(labels)))\n",
    "    print(timings[-1],nmis[-1],ks[-1])"
   ]
  },
  {
   "cell_type": "code",
   "execution_count": null,
   "id": "7f29eeaa-4702-405a-9478-bd360e880925",
   "metadata": {},
   "outputs": [],
   "source": [
    "print(np.mean(timings))\n",
    "print(np.std(timings))\n",
    "print(np.mean(nmis))\n",
    "print(np.std(nmis))\n",
    "print(np.mean(ks))\n",
    "print(np.std(ks))"
   ]
  },
  {
   "cell_type": "markdown",
   "id": "4aaaf621-03cd-461e-b5e3-c7f175e32944",
   "metadata": {},
   "source": [
    "### MiniBatch PDC-DP-Means"
   ]
  },
  {
   "cell_type": "code",
   "execution_count": null,
   "id": "9daa9b44-5b7f-48d3-ab56-3e673cf4e5f4",
   "metadata": {},
   "outputs": [],
   "source": [
    "def search_dpmeans(pars):    \n",
    "    labels = MiniBatchDPMeans(delta=pars[0], batch_size= int(np.round(pars[1]))).fit_predict(X_test)\n",
    "    return -nmi(labels,y_test)"
   ]
  },
  {
   "cell_type": "code",
   "execution_count": null,
   "id": "dadbe0a8-0504-4a0b-b80e-fe1f60d60ac2",
   "metadata": {},
   "outputs": [],
   "source": [
    "best_params = bb.search_min(f = search_dpmeans,  # given function\n",
    "                            domain = [  # ranges of each parameter\n",
    "                                [0.1, 20.],\n",
    "                                [10,2000]],\n",
    "                            budget = 200,  # total number of function calls available\n",
    "                            batch = 16,\n",
    "                            resfile = 'opt_res/mbpdpmeans.csv')"
   ]
  },
  {
   "cell_type": "code",
   "execution_count": null,
   "id": "d627bcdf-00c7-46d3-ae12-c98e7d00ce89",
   "metadata": {},
   "outputs": [],
   "source": [
    "best_params = np.array([10.52243421, 10.00000611])"
   ]
  },
  {
   "cell_type": "code",
   "execution_count": null,
   "id": "459a6956-fd49-4c6d-8baf-d6b3d86a9268",
   "metadata": {},
   "outputs": [],
   "source": [
    "search_dpmeans(best_params)"
   ]
  },
  {
   "cell_type": "code",
   "execution_count": null,
   "id": "953abc25-e16b-4af1-bb04-a00b1f0c0d94",
   "metadata": {},
   "outputs": [],
   "source": [
    "best_params = np.array([115.61347713, 213.675161001])\n",
    "timings =[]\n",
    "nmis = []\n",
    "ks =[]\n",
    "for i in tqdm(range(3)):\n",
    "    tic = time()\n",
    "    labels = MiniBatchDPMeans(delta=best_params[0], batch_size= int(np.round(best_params[1]))).fit_predict(X_train)\n",
    "    toc = time()-tic\n",
    "    timings.append(toc)\n",
    "    nmis.append(nmi(labels,y_train))\n",
    "    ks.append(len(np.unique(labels)))\n",
    "    print(timings[-1],nmis[-1],ks[-1])"
   ]
  },
  {
   "cell_type": "code",
   "execution_count": null,
   "id": "ed1d0c80-e3b6-4b5f-94cf-73a4f36d1def",
   "metadata": {},
   "outputs": [],
   "source": [
    "print(np.mean(timings))\n",
    "print(np.std(timings))\n",
    "print(np.mean(nmis))\n",
    "print(np.std(nmis))\n",
    "print(np.mean(ks))\n",
    "print(np.std(ks))"
   ]
  }
 ],
 "metadata": {
  "kernelspec": {
   "display_name": "Python 3 (ipykernel)",
   "language": "python",
   "name": "python3"
  },
  "language_info": {
   "codemirror_mode": {
    "name": "ipython",
    "version": 3
   },
   "file_extension": ".py",
   "mimetype": "text/x-python",
   "name": "python",
   "nbconvert_exporter": "python",
   "pygments_lexer": "ipython3",
   "version": "3.9.9"
  }
 },
 "nbformat": 4,
 "nbformat_minor": 5
}
